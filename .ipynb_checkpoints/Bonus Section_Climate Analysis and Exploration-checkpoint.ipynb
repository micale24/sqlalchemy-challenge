{
 "cells": [
  {
   "cell_type": "code",
   "execution_count": 51,
   "metadata": {},
   "outputs": [],
   "source": [
    "%matplotlib inline\n",
    "from matplotlib import style\n",
    "style.use('fivethirtyeight')\n",
    "import matplotlib.pyplot as plt\n",
    "import numpy as np\n",
    "import pandas as pd\n",
    "import datetime as dt\n",
    "import scipy as stats"
   ]
  },
  {
   "cell_type": "markdown",
   "metadata": {},
   "source": [
    "# Reflect Tables into SQLAlchemy ORM"
   ]
  },
  {
   "cell_type": "code",
   "execution_count": 2,
   "metadata": {},
   "outputs": [],
   "source": [
    "# Python SQL toolkit and Object Relational Mapper\n",
    "import sqlalchemy\n",
    "from sqlalchemy.ext.automap import automap_base\n",
    "from sqlalchemy.orm import Session\n",
    "from sqlalchemy import create_engine, func, inspect, distinct"
   ]
  },
  {
   "cell_type": "code",
   "execution_count": 3,
   "metadata": {},
   "outputs": [],
   "source": [
    "engine = create_engine(\"sqlite:///Resources/hawaii.sqlite\")"
   ]
  },
  {
   "cell_type": "code",
   "execution_count": 4,
   "metadata": {},
   "outputs": [],
   "source": [
    "# reflect an existing database into a new model\n",
    "Base = automap_base()\n",
    "# reflect the tables\n",
    "Base.prepare(engine, reflect=True)"
   ]
  },
  {
   "cell_type": "code",
   "execution_count": 5,
   "metadata": {},
   "outputs": [
    {
     "data": {
      "text/plain": [
       "['measurement', 'station']"
      ]
     },
     "execution_count": 5,
     "metadata": {},
     "output_type": "execute_result"
    }
   ],
   "source": [
    "# We can view all of the classes that automap found\n",
    "Base.classes.keys()"
   ]
  },
  {
   "cell_type": "code",
   "execution_count": 6,
   "metadata": {},
   "outputs": [],
   "source": [
    "# Save references to each table\n",
    "measurement= Base.classes.measurement "
   ]
  },
  {
   "cell_type": "code",
   "execution_count": 7,
   "metadata": {},
   "outputs": [],
   "source": [
    "station= Base.classes.station"
   ]
  },
  {
   "cell_type": "code",
   "execution_count": 8,
   "metadata": {},
   "outputs": [
    {
     "data": {
      "text/plain": [
       "<sqlalchemy.sql.functions.Function at 0x2f8a6c286a0; avg>"
      ]
     },
     "execution_count": 8,
     "metadata": {},
     "output_type": "execute_result"
    }
   ],
   "source": [
    "# Create our session (link) from Python to the DB\n",
    "session= Session(engine)\n",
    "func.avg(measurement.tobs)"
   ]
  },
  {
   "cell_type": "markdown",
   "metadata": {},
   "source": [
    "#  Bonus: Other Recommend Analyses"
   ]
  },
  {
   "cell_type": "markdown",
   "metadata": {},
   "source": [
    "### Temperature Analysis I"
   ]
  },
  {
   "cell_type": "markdown",
   "metadata": {},
   "source": [
    "#### Hawaii is reputed to enjoy mild weather all year.  Is there a meaningul difference between the temperature in, for example, June and December?"
   ]
  },
  {
   "cell_type": "code",
   "execution_count": 9,
   "metadata": {},
   "outputs": [],
   "source": [
    "#So...I could only figure out the long way.  18 queries to produce June and December for seven years worth of data. "
   ]
  },
  {
   "cell_type": "code",
   "execution_count": 10,
   "metadata": {},
   "outputs": [
    {
     "data": {
      "text/plain": [
       "(73.63333333333334)"
      ]
     },
     "execution_count": 10,
     "metadata": {},
     "output_type": "execute_result"
    }
   ],
   "source": [
    "# June temperatures observations \n",
    "june_station_1 = session.query(func.avg(measurement.tobs)).\\\n",
    "    filter(measurement.station == 'USC00519281').\\\n",
    "    filter(measurement.date > '2010-05-31').\\\n",
    "    filter(measurement.date <'2010-07-01').first()\n",
    "june_station_1"
   ]
  },
  {
   "cell_type": "code",
   "execution_count": 11,
   "metadata": {},
   "outputs": [
    {
     "data": {
      "text/plain": [
       "(77.76666666666667)"
      ]
     },
     "execution_count": 11,
     "metadata": {},
     "output_type": "execute_result"
    }
   ],
   "source": [
    "june_station_2 = session.query(func.avg(measurement.tobs)).\\\n",
    "    filter(measurement.station == 'USC00519397').\\\n",
    "    filter(measurement.date > '2010-05-31').\\\n",
    "    filter(measurement.date <'2010-07-01').first()\n",
    "june_station_2"
   ]
  },
  {
   "cell_type": "code",
   "execution_count": 12,
   "metadata": {},
   "outputs": [
    {
     "data": {
      "text/plain": [
       "(74.8)"
      ]
     },
     "execution_count": 12,
     "metadata": {},
     "output_type": "execute_result"
    }
   ],
   "source": [
    "june_station_3 = session.query(func.avg(measurement.tobs)).\\\n",
    "    filter(measurement.station == 'USC00513117').\\\n",
    "    filter(measurement.date > '2010-05-31').\\\n",
    "    filter(measurement.date <'2010-07-01').first()\n",
    "june_station_3"
   ]
  },
  {
   "cell_type": "code",
   "execution_count": 38,
   "metadata": {},
   "outputs": [
    {
     "data": {
      "text/plain": [
       "(76.17241379310344)"
      ]
     },
     "execution_count": 38,
     "metadata": {},
     "output_type": "execute_result"
    }
   ],
   "source": [
    "june_station_4 = session.query(func.avg(measurement.tobs)).\\\n",
    "    filter(measurement.station == 'USC00519523').\\\n",
    "    filter(measurement.date > '2010-05-31').\\\n",
    "    filter(measurement.date <'2010-07-01').first()\n",
    "june_station_4"
   ]
  },
  {
   "cell_type": "code",
   "execution_count": 14,
   "metadata": {},
   "outputs": [
    {
     "data": {
      "text/plain": [
       "(72.86363636363636)"
      ]
     },
     "execution_count": 14,
     "metadata": {},
     "output_type": "execute_result"
    }
   ],
   "source": [
    "june_station_5 = session.query(func.avg(measurement.tobs)).\\\n",
    "    filter(measurement.station == 'USC00516128').\\\n",
    "    filter(measurement.date > '2010-05-31').\\\n",
    "    filter(measurement.date <'2010-07-01').first()\n",
    "june_station_5"
   ]
  },
  {
   "cell_type": "code",
   "execution_count": 15,
   "metadata": {},
   "outputs": [
    {
     "data": {
      "text/plain": [
       "(72.86363636363636)"
      ]
     },
     "execution_count": 15,
     "metadata": {},
     "output_type": "execute_result"
    }
   ],
   "source": [
    "june_station_6 = session.query(func.avg(measurement.tobs)).\\\n",
    "    filter(measurement.station == 'USC00516128').\\\n",
    "    filter(measurement.date > '2010-05-31').\\\n",
    "    filter(measurement.date <'2010-07-01').first()\n",
    "june_station_6"
   ]
  },
  {
   "cell_type": "code",
   "execution_count": 16,
   "metadata": {},
   "outputs": [
    {
     "data": {
      "text/plain": [
       "(72.86363636363636)"
      ]
     },
     "execution_count": 16,
     "metadata": {},
     "output_type": "execute_result"
    }
   ],
   "source": [
    "june_station_7 = session.query(func.avg(measurement.tobs)).\\\n",
    "    filter(measurement.station == 'USC00516128').\\\n",
    "    filter(measurement.date > '2010-05-31').\\\n",
    "    filter(measurement.date <'2010-07-01').first()\n",
    "june_station_7"
   ]
  },
  {
   "cell_type": "code",
   "execution_count": 17,
   "metadata": {},
   "outputs": [
    {
     "data": {
      "text/plain": [
       "(72.86363636363636)"
      ]
     },
     "execution_count": 17,
     "metadata": {},
     "output_type": "execute_result"
    }
   ],
   "source": [
    "june_station_8 = session.query(func.avg(measurement.tobs)).\\\n",
    "    filter(measurement.station == 'USC00516128').\\\n",
    "    filter(measurement.date > '2010-05-31').\\\n",
    "    filter(measurement.date <'2010-07-01').first()\n",
    "june_station_8"
   ]
  },
  {
   "cell_type": "code",
   "execution_count": 18,
   "metadata": {},
   "outputs": [
    {
     "data": {
      "text/plain": [
       "(72.86363636363636)"
      ]
     },
     "execution_count": 18,
     "metadata": {},
     "output_type": "execute_result"
    }
   ],
   "source": [
    "june_station_9 = session.query(func.avg(measurement.tobs)).\\\n",
    "    filter(measurement.station == 'USC00516128').\\\n",
    "    filter(measurement.date > '2010-05-31').\\\n",
    "    filter(measurement.date <'2010-07-01').first()\n",
    "june_station_9"
   ]
  },
  {
   "cell_type": "code",
   "execution_count": 19,
   "metadata": {},
   "outputs": [
    {
     "data": {
      "text/plain": [
       "(69.0)"
      ]
     },
     "execution_count": 19,
     "metadata": {},
     "output_type": "execute_result"
    }
   ],
   "source": [
    "# December temperatures observations \n",
    "\n",
    "december_station_1 = session.query(func.avg(measurement.tobs)).\\\n",
    "    filter(measurement.station == 'USC00519281').\\\n",
    "    filter(measurement.date > '2010-11-30').\\\n",
    "    filter(measurement.date <'2011-01-01').first()\n",
    "december_station_1"
   ]
  },
  {
   "cell_type": "code",
   "execution_count": 20,
   "metadata": {},
   "outputs": [
    {
     "data": {
      "text/plain": [
       "(70.64)"
      ]
     },
     "execution_count": 20,
     "metadata": {},
     "output_type": "execute_result"
    }
   ],
   "source": [
    "december_station_2 = session.query(func.avg(measurement.tobs)).\\\n",
    "    filter(measurement.station == 'USC00519397').\\\n",
    "    filter(measurement.date > '2010-11-30').\\\n",
    "    filter(measurement.date <'2011-01-01').first()\n",
    "december_station_2"
   ]
  },
  {
   "cell_type": "code",
   "execution_count": 21,
   "metadata": {},
   "outputs": [
    {
     "data": {
      "text/plain": [
       "(70.96774193548387)"
      ]
     },
     "execution_count": 21,
     "metadata": {},
     "output_type": "execute_result"
    }
   ],
   "source": [
    "december_station_3 = session.query(func.avg(measurement.tobs)).\\\n",
    "    filter(measurement.station == 'USC00513117').\\\n",
    "    filter(measurement.date > '2010-11-30').\\\n",
    "    filter(measurement.date <'2011-01-01').first()\n",
    "december_station_3"
   ]
  },
  {
   "cell_type": "code",
   "execution_count": 42,
   "metadata": {},
   "outputs": [
    {
     "data": {
      "text/plain": [
       "(71.61290322580645)"
      ]
     },
     "execution_count": 42,
     "metadata": {},
     "output_type": "execute_result"
    }
   ],
   "source": [
    "december_station_4 = session.query(func.avg(measurement.tobs)).\\\n",
    "    filter(measurement.station == 'USC00519523').\\\n",
    "    filter(measurement.date > '2010-11-30').\\\n",
    "    filter(measurement.date <'2011-01-01').first()\n",
    "december_station_4"
   ]
  },
  {
   "cell_type": "code",
   "execution_count": 23,
   "metadata": {},
   "outputs": [
    {
     "data": {
      "text/plain": [
       "(69.48387096774194)"
      ]
     },
     "execution_count": 23,
     "metadata": {},
     "output_type": "execute_result"
    }
   ],
   "source": [
    "december_station_5 = session.query(func.avg(measurement.tobs)).\\\n",
    "    filter(measurement.station == 'USC00516128').\\\n",
    "    filter(measurement.date > '2010-11-30').\\\n",
    "    filter(measurement.date <'2011-01-01').first()\n",
    "december_station_5"
   ]
  },
  {
   "cell_type": "code",
   "execution_count": 24,
   "metadata": {},
   "outputs": [
    {
     "data": {
      "text/plain": [
       "(69.48387096774194)"
      ]
     },
     "execution_count": 24,
     "metadata": {},
     "output_type": "execute_result"
    }
   ],
   "source": [
    "december_station_6 = session.query(func.avg(measurement.tobs)).\\\n",
    "    filter(measurement.station == 'USC00516128').\\\n",
    "    filter(measurement.date > '2010-11-30').\\\n",
    "    filter(measurement.date <'2011-01-01').first()\n",
    "december_station_6"
   ]
  },
  {
   "cell_type": "code",
   "execution_count": 25,
   "metadata": {},
   "outputs": [
    {
     "data": {
      "text/plain": [
       "(69.48387096774194)"
      ]
     },
     "execution_count": 25,
     "metadata": {},
     "output_type": "execute_result"
    }
   ],
   "source": [
    "december_station_7 = session.query(func.avg(measurement.tobs)).\\\n",
    "    filter(measurement.station == 'USC00516128').\\\n",
    "    filter(measurement.date > '2010-11-30').\\\n",
    "    filter(measurement.date <'2011-01-01').first()\n",
    "december_station_7"
   ]
  },
  {
   "cell_type": "code",
   "execution_count": 26,
   "metadata": {},
   "outputs": [
    {
     "data": {
      "text/plain": [
       "(69.48387096774194)"
      ]
     },
     "execution_count": 26,
     "metadata": {},
     "output_type": "execute_result"
    }
   ],
   "source": [
    "december_station_8 = session.query(func.avg(measurement.tobs)).\\\n",
    "    filter(measurement.station == 'USC00516128').\\\n",
    "    filter(measurement.date > '2010-11-30').\\\n",
    "    filter(measurement.date <'2011-01-01').first()\n",
    "december_station_8"
   ]
  },
  {
   "cell_type": "code",
   "execution_count": 27,
   "metadata": {},
   "outputs": [
    {
     "data": {
      "text/plain": [
       "(72.86363636363636)"
      ]
     },
     "execution_count": 27,
     "metadata": {},
     "output_type": "execute_result"
    }
   ],
   "source": [
    "december_station_9 = session.query(func.avg(measurement.tobs)).\\\n",
    "    filter(measurement.station == 'USC00516128').\\\n",
    "    filter(measurement.date > '2010-05-31').\\\n",
    "    filter(measurement.date <'2010-07-01').first()\n",
    "december_station_9"
   ]
  },
  {
   "cell_type": "code",
   "execution_count": 39,
   "metadata": {},
   "outputs": [
    {
     "name": "stdout",
     "output_type": "stream",
     "text": [
      "[(73.63333333333334, 77.76666666666667, 74.8, 76.17241379310344, 72.86363636363636, 72.86363636363636, 72.86363636363636, 72.86363636363636, 72.86363636363636)]\n"
     ]
    }
   ],
   "source": [
    "trying_june = [temps for temps in zip(june_station_1,june_station_2,june_station_3,june_station_4,june_station_5,june_station_6,june_station_7,june_station_8,june_station_9)]\n",
    "print(trying_june)"
   ]
  },
  {
   "cell_type": "code",
   "execution_count": 40,
   "metadata": {},
   "outputs": [
    {
     "data": {
      "text/plain": [
       "74.07673284569836"
      ]
     },
     "execution_count": 40,
     "metadata": {},
     "output_type": "execute_result"
    }
   ],
   "source": [
    "june_months = np.mean(trying_june)\n",
    "june_months"
   ]
  },
  {
   "cell_type": "code",
   "execution_count": 43,
   "metadata": {},
   "outputs": [
    {
     "name": "stdout",
     "output_type": "stream",
     "text": [
      "[(69.0, 70.64, 70.96774193548387, 71.61290322580645, 69.48387096774194, 69.48387096774194, 69.48387096774194, 69.48387096774194, 72.86363636363636)]\n"
     ]
    }
   ],
   "source": [
    "trying_dec = [temps for temps in zip(december_station_1,december_station_2,december_station_3,december_station_4,december_station_5,december_station_6,december_station_7,december_station_8,december_station_9)]\n",
    "print(trying_dec)"
   ]
  },
  {
   "cell_type": "code",
   "execution_count": 44,
   "metadata": {},
   "outputs": [
    {
     "data": {
      "text/plain": [
       "70.33552948843271"
      ]
     },
     "execution_count": 44,
     "metadata": {},
     "output_type": "execute_result"
    }
   ],
   "source": [
    "december_months = np.mean(trying_dec)\n",
    "december_months"
   ]
  },
  {
   "cell_type": "code",
   "execution_count": 57,
   "metadata": {
    "scrolled": true
   },
   "outputs": [
    {
     "ename": "TypeError",
     "evalue": "'module' object is not callable",
     "output_type": "error",
     "traceback": [
      "\u001b[1;31m---------------------------------------------------------------------------\u001b[0m",
      "\u001b[1;31mTypeError\u001b[0m                                 Traceback (most recent call last)",
      "\u001b[1;32m<ipython-input-57-206835c50943>\u001b[0m in \u001b[0;36m<module>\u001b[1;34m\u001b[0m\n\u001b[0;32m      1\u001b[0m \u001b[1;31m# T-test to determine if there is a significant difference between the temperatures in June and December.\u001b[0m\u001b[1;33m\u001b[0m\u001b[1;33m\u001b[0m\u001b[1;33m\u001b[0m\u001b[0m\n\u001b[1;32m----> 2\u001b[1;33m \u001b[0mtemp_ttest\u001b[0m\u001b[1;33m=\u001b[0m \u001b[0mstats\u001b[0m\u001b[1;33m(\u001b[0m\u001b[0mjune_months\u001b[0m\u001b[1;33m,\u001b[0m\u001b[0mdecember_months\u001b[0m\u001b[1;33m)\u001b[0m\u001b[1;33m\u001b[0m\u001b[1;33m\u001b[0m\u001b[0m\n\u001b[0m",
      "\u001b[1;31mTypeError\u001b[0m: 'module' object is not callable"
     ]
    }
   ],
   "source": [
    "# T-test to determine if there is a significant difference between the temperatures in June and December.\n",
    "temp_ttest= stats(june_months,december_months)"
   ]
  },
  {
   "cell_type": "code",
   "execution_count": null,
   "metadata": {},
   "outputs": [],
   "source": [
    "stats.ttest_ind(rvs1, rvs3)"
   ]
  },
  {
   "cell_type": "markdown",
   "metadata": {},
   "source": [
    "### Temperatrue Analysis II"
   ]
  },
  {
   "cell_type": "code",
   "execution_count": null,
   "metadata": {},
   "outputs": [],
   "source": []
  },
  {
   "cell_type": "code",
   "execution_count": null,
   "metadata": {},
   "outputs": [],
   "source": []
  }
 ],
 "metadata": {
  "kernelspec": {
   "display_name": "Python 3",
   "language": "python",
   "name": "python3"
  },
  "language_info": {
   "codemirror_mode": {
    "name": "ipython",
    "version": 3
   },
   "file_extension": ".py",
   "mimetype": "text/x-python",
   "name": "python",
   "nbconvert_exporter": "python",
   "pygments_lexer": "ipython3",
   "version": "3.8.3"
  }
 },
 "nbformat": 4,
 "nbformat_minor": 4
}
